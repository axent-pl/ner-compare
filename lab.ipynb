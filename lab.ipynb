{
 "cells": [
  {
   "cell_type": "code",
   "execution_count": 1,
   "metadata": {},
   "outputs": [],
   "source": [
    "import os\n",
    "import sys\n",
    "sys.path.append(os.getcwd())"
   ]
  },
  {
   "cell_type": "code",
   "execution_count": 2,
   "metadata": {},
   "outputs": [
    {
     "name": "stderr",
     "output_type": "stream",
     "text": [
      "/Users/pgasiorowski/Documents/Projects/axent/ner-compare/projectenv/lib/python3.12/site-packages/tqdm/auto.py:21: TqdmWarning: IProgress not found. Please update jupyter and ipywidgets. See https://ipywidgets.readthedocs.io/en/stable/user_install.html\n",
      "  from .autonotebook import tqdm as notebook_tqdm\n"
     ]
    }
   ],
   "source": [
    "from compare import StanzaNERFacade\n",
    "from compare import SpacyNERFacade"
   ]
  },
  {
   "cell_type": "code",
   "execution_count": 6,
   "metadata": {},
   "outputs": [],
   "source": [
    "text = ''\n",
    "with open('data/fida.md') as f:\n",
    "    text = f.read().rstrip()\n",
    "\n",
    "text = '''\n",
    "Dnia 10 sierpnia 2024 została podpisana niniejsza Umowa.\n",
    "1. Umowa podstawowa zawierana jest na okres nie krótszy niż 10 lat.\n",
    "2. Umowa wygasa:\n",
    "  a) z upływem okresu, na jaki została zawarta,\n",
    "  b) z dniem wypłaty Sumy ubezpieczenia z tytułu śmierci Ubezpieczonego głównego; Umowa nie wygasa, jeżeli wskazałeś innego Ubezpieczonego głównego spośród Ubezpieczonych w terminie30 dni od dnia wypłaty Sumy ubezpieczenia,\n",
    "  c) w rocznicę rozpoczęcia ochrony ubezpieczeniowej przypadającą bezpośrednio po dniu ukończenia przez Ubezpieczonego głównego 75 lat; Umowa nie wygasa, jeżeli wskazałeś innego Ubezpieczonego głównego spośród Ubezpieczonych w terminie co najmniej 15 dniprzed tą rocznicą rozpoczęcia ochrony ubezpieczeniowej,\n",
    "  d) z dniem rezygnacji z obejmowania ochroną ubezpieczeniową Ubezpieczonego głównego; Umowa nie wygasa, jeżeli wskazałeś innego Ubezpieczonego głównego spośród Ubezpieczonych,\n",
    "  e) jeżeli ochroną ubezpieczeniową nie jest już objęty żaden Ubezpieczony,\n",
    "  f) w przypadku zmiany w Umowie, która spowodowała obniżenie Składki poniżej limitów wskazanych w Tabeli limitów i opłat; Umowa nie wygasa, jeżeli obniżenie to nastąpiło w wyniku śmierci Ubezpieczonego.\n",
    "3. Umowa zostaje rozwiązana, po uprzednim wezwaniu Właściciela polisy do zapłaty, po upływie 60 dni od dnia, w którym nie została wpłacona pierwsza zaległa Składka.\n",
    "4. W każdym momencie możesz wypowiedzieć Umowę lub Umowę dodatkową, składając pisemny wniosek do Nationale‑Nederlanden. Umowa lub Umowa dodatkowa zostanie rozwiązana z końcem Miesiąca polisowego, w którym ten wniosek został dostarczony do siedziby Nationale‑Nederlanden w Warszawie albo Przedstawicielowi. Umowa lub Umowa dodatkowa wygaśnie najpóźniej z końcem następnego Miesiąca polisowego, jeżeli wniosek został dostarczony do siedziby Nationale‑Nederlanden w Warszawie albo Przedstawicielowi później niż na 10 Dni roboczych przed końcem Miesiąca polisowego, o ile wcześniej nie nastąpi jej rozwiązanie z powodu nieopłacenia Składek.\n",
    "5. Jeśli jesteś osobą fizyczną, możesz odstąpić od Umowy lub od Umowy dodatkowej w terminie 30 dni, a jeśli jesteś przedsiębiorcą – w terminie 7 dni, licząc od dnia otrzymania Dokumentu ubezpieczenia potwierdzającego jej zawarcie. W takim przypadku zwrócimy Ci wpłaconą Składkę w terminie 10 Dni roboczych od dnia otrzymania pisemnego oświadczenia o odstąpieniu od Umowy, z zastrzeżeniem że zwrot ten nastąpi, jeśli Nationale-Nederlanden będzie w stanie prawidłowo zidentyfikować Właściciela polisy i zweryfikować jego tożsamość. W przypadku odstąpienia od Umowy dodatkowej zwrócimy Ci Składkę za Umowę dodatkową. Wskazane jest, abyś w oświadczeniu o odstąpieniu podał numer rachunku bankowego do zwrotu Składki.\n",
    "'''"
   ]
  },
  {
   "cell_type": "code",
   "execution_count": 7,
   "metadata": {},
   "outputs": [
    {
     "name": "stderr",
     "output_type": "stream",
     "text": [
      "/Users/pgasiorowski/Documents/Projects/axent/ner-compare/projectenv/lib/python3.12/site-packages/stanza/models/tokenization/trainer.py:82: FutureWarning: You are using `torch.load` with `weights_only=False` (the current default value), which uses the default pickle module implicitly. It is possible to construct malicious pickle data which will execute arbitrary code during unpickling (See https://github.com/pytorch/pytorch/blob/main/SECURITY.md#untrusted-models for more details). In a future release, the default value for `weights_only` will be flipped to `True`. This limits the functions that could be executed during unpickling. Arbitrary objects will no longer be allowed to be loaded via this mode unless they are explicitly allowlisted by the user via `torch.serialization.add_safe_globals`. We recommend you start setting `weights_only=True` for any use case where you don't have full control of the loaded file. Please open an issue on GitHub for any issues related to this experimental feature.\n",
      "  checkpoint = torch.load(filename, lambda storage, loc: storage)\n",
      "/Users/pgasiorowski/Documents/Projects/axent/ner-compare/projectenv/lib/python3.12/site-packages/stanza/models/mwt/trainer.py:170: FutureWarning: You are using `torch.load` with `weights_only=False` (the current default value), which uses the default pickle module implicitly. It is possible to construct malicious pickle data which will execute arbitrary code during unpickling (See https://github.com/pytorch/pytorch/blob/main/SECURITY.md#untrusted-models for more details). In a future release, the default value for `weights_only` will be flipped to `True`. This limits the functions that could be executed during unpickling. Arbitrary objects will no longer be allowed to be loaded via this mode unless they are explicitly allowlisted by the user via `torch.serialization.add_safe_globals`. We recommend you start setting `weights_only=True` for any use case where you don't have full control of the loaded file. Please open an issue on GitHub for any issues related to this experimental feature.\n",
      "  checkpoint = torch.load(filename, lambda storage, loc: storage)\n",
      "/Users/pgasiorowski/Documents/Projects/axent/ner-compare/projectenv/lib/python3.12/site-packages/stanza/models/pos/trainer.py:139: FutureWarning: You are using `torch.load` with `weights_only=False` (the current default value), which uses the default pickle module implicitly. It is possible to construct malicious pickle data which will execute arbitrary code during unpickling (See https://github.com/pytorch/pytorch/blob/main/SECURITY.md#untrusted-models for more details). In a future release, the default value for `weights_only` will be flipped to `True`. This limits the functions that could be executed during unpickling. Arbitrary objects will no longer be allowed to be loaded via this mode unless they are explicitly allowlisted by the user via `torch.serialization.add_safe_globals`. We recommend you start setting `weights_only=True` for any use case where you don't have full control of the loaded file. Please open an issue on GitHub for any issues related to this experimental feature.\n",
      "  checkpoint = torch.load(filename, lambda storage, loc: storage)\n",
      "/Users/pgasiorowski/Documents/Projects/axent/ner-compare/projectenv/lib/python3.12/site-packages/stanza/models/common/pretrain.py:56: FutureWarning: You are using `torch.load` with `weights_only=False` (the current default value), which uses the default pickle module implicitly. It is possible to construct malicious pickle data which will execute arbitrary code during unpickling (See https://github.com/pytorch/pytorch/blob/main/SECURITY.md#untrusted-models for more details). In a future release, the default value for `weights_only` will be flipped to `True`. This limits the functions that could be executed during unpickling. Arbitrary objects will no longer be allowed to be loaded via this mode unless they are explicitly allowlisted by the user via `torch.serialization.add_safe_globals`. We recommend you start setting `weights_only=True` for any use case where you don't have full control of the loaded file. Please open an issue on GitHub for any issues related to this experimental feature.\n",
      "  data = torch.load(self.filename, lambda storage, loc: storage)\n",
      "/Users/pgasiorowski/Documents/Projects/axent/ner-compare/projectenv/lib/python3.12/site-packages/stanza/models/common/char_model.py:271: FutureWarning: You are using `torch.load` with `weights_only=False` (the current default value), which uses the default pickle module implicitly. It is possible to construct malicious pickle data which will execute arbitrary code during unpickling (See https://github.com/pytorch/pytorch/blob/main/SECURITY.md#untrusted-models for more details). In a future release, the default value for `weights_only` will be flipped to `True`. This limits the functions that could be executed during unpickling. Arbitrary objects will no longer be allowed to be loaded via this mode unless they are explicitly allowlisted by the user via `torch.serialization.add_safe_globals`. We recommend you start setting `weights_only=True` for any use case where you don't have full control of the loaded file. Please open an issue on GitHub for any issues related to this experimental feature.\n",
      "  state = torch.load(filename, lambda storage, loc: storage)\n",
      "/Users/pgasiorowski/Documents/Projects/axent/ner-compare/projectenv/lib/python3.12/site-packages/stanza/models/lemma/trainer.py:236: FutureWarning: You are using `torch.load` with `weights_only=False` (the current default value), which uses the default pickle module implicitly. It is possible to construct malicious pickle data which will execute arbitrary code during unpickling (See https://github.com/pytorch/pytorch/blob/main/SECURITY.md#untrusted-models for more details). In a future release, the default value for `weights_only` will be flipped to `True`. This limits the functions that could be executed during unpickling. Arbitrary objects will no longer be allowed to be loaded via this mode unless they are explicitly allowlisted by the user via `torch.serialization.add_safe_globals`. We recommend you start setting `weights_only=True` for any use case where you don't have full control of the loaded file. Please open an issue on GitHub for any issues related to this experimental feature.\n",
      "  checkpoint = torch.load(filename, lambda storage, loc: storage)\n",
      "/Users/pgasiorowski/Documents/Projects/axent/ner-compare/projectenv/lib/python3.12/site-packages/stanza/models/depparse/trainer.py:194: FutureWarning: You are using `torch.load` with `weights_only=False` (the current default value), which uses the default pickle module implicitly. It is possible to construct malicious pickle data which will execute arbitrary code during unpickling (See https://github.com/pytorch/pytorch/blob/main/SECURITY.md#untrusted-models for more details). In a future release, the default value for `weights_only` will be flipped to `True`. This limits the functions that could be executed during unpickling. Arbitrary objects will no longer be allowed to be loaded via this mode unless they are explicitly allowlisted by the user via `torch.serialization.add_safe_globals`. We recommend you start setting `weights_only=True` for any use case where you don't have full control of the loaded file. Please open an issue on GitHub for any issues related to this experimental feature.\n",
      "  checkpoint = torch.load(filename, lambda storage, loc: storage)\n",
      "/Users/pgasiorowski/Documents/Projects/axent/ner-compare/projectenv/lib/python3.12/site-packages/stanza/models/ner/trainer.py:197: FutureWarning: You are using `torch.load` with `weights_only=False` (the current default value), which uses the default pickle module implicitly. It is possible to construct malicious pickle data which will execute arbitrary code during unpickling (See https://github.com/pytorch/pytorch/blob/main/SECURITY.md#untrusted-models for more details). In a future release, the default value for `weights_only` will be flipped to `True`. This limits the functions that could be executed during unpickling. Arbitrary objects will no longer be allowed to be loaded via this mode unless they are explicitly allowlisted by the user via `torch.serialization.add_safe_globals`. We recommend you start setting `weights_only=True` for any use case where you don't have full control of the loaded file. Please open an issue on GitHub for any issues related to this experimental feature.\n",
      "  checkpoint = torch.load(filename, lambda storage, loc: storage)\n"
     ]
    }
   ],
   "source": [
    "nlps = {\n",
    "    'Stanza-Default': StanzaNERFacade(),\n",
    "    'Spacy-Default': SpacyNERFacade()\n",
    "}"
   ]
  },
  {
   "cell_type": "code",
   "execution_count": 8,
   "metadata": {},
   "outputs": [
    {
     "name": "stdout",
     "output_type": "stream",
     "text": [
      "## Stanza-Default\n",
      "* Dnia 10 sierpnia 2024 (date)\n",
      "* Nationale‑Nederlanden (orgName)\n",
      "* Nationale‑Nederlanden (orgName)\n",
      "* Warszawie (placeName)\n",
      "* Nationale‑Nederlanden (orgName)\n",
      "* Warszawie (placeName)\n",
      "* Nationale-Nederlanden (orgName)\n",
      "## Spacy-Default\n",
      "* Dnia 10 sierpnia 2024 (date)\n",
      "* Nationale‑Nederlanden (orgName)\n",
      "* Nationale‑Nederlanden (orgName)\n",
      "* Warszawie (placeName)\n",
      "* Przedstawicielowi (persName)\n",
      "* Nationale‑Nederlanden (orgName)\n",
      "* Warszawie (placeName)\n",
      "* Przedstawicielowi (persName)\n",
      "* Składek (persName)\n",
      "* Nationale-Nederlanden (orgName)\n"
     ]
    }
   ],
   "source": [
    "\n",
    "\n",
    "for nlp_name, nlp in nlps.items():\n",
    "    ents = nlp.transform(text)\n",
    "    print(f'## {nlp_name}')\n",
    "    for ent in ents:\n",
    "        print('* {} ({})'.format(ent.get('text'), ent.get('type')))"
   ]
  },
  {
   "cell_type": "code",
   "execution_count": null,
   "metadata": {},
   "outputs": [],
   "source": []
  },
  {
   "cell_type": "code",
   "execution_count": null,
   "metadata": {},
   "outputs": [],
   "source": []
  }
 ],
 "metadata": {
  "kernelspec": {
   "display_name": "projectenv",
   "language": "python",
   "name": "python3"
  },
  "language_info": {
   "codemirror_mode": {
    "name": "ipython",
    "version": 3
   },
   "file_extension": ".py",
   "mimetype": "text/x-python",
   "name": "python",
   "nbconvert_exporter": "python",
   "pygments_lexer": "ipython3",
   "version": "3.12.6"
  }
 },
 "nbformat": 4,
 "nbformat_minor": 2
}
